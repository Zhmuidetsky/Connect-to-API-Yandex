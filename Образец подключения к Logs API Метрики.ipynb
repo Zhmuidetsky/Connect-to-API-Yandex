{
 "cells": [
  {
   "cell_type": "markdown",
   "id": "a6ad8ffc",
   "metadata": {},
   "source": [
    "# **Образец получения статистики**"
   ]
  },
  {
   "cell_type": "code",
   "execution_count": 1,
   "id": "5d833ff8",
   "metadata": {},
   "outputs": [],
   "source": [
    "# перед началом работы импортируем библиотеки, которые могут понадобиться в работе над проектом\n",
    "\n",
    "import pandas as pd\n",
    "import math\n",
    "import numpy as np\n",
    "from matplotlib import pyplot as plt\n",
    "from scipy import stats as st\n",
    "import seaborn as sns\n",
    "import scipy.stats as stats\n",
    "import plotly.express as px\n",
    "import plotly.graph_objs as go\n",
    "from plotly.subplots import make_subplots\n",
    "import requests \n",
    "from urllib.parse import urlencode \n",
    "import re\n",
    "from calendar import day_name\n",
    "\n",
    "%matplotlib inline\n",
    "# импорт библиотеки подключения к яндекс-метрике\n",
    "from tapi_yandex_metrika import YandexMetrikaStats\n",
    "from tapi_yandex_metrika import YandexMetrikaLogsapi\n",
    "from pandas.io.json import json_normalize\n",
    "import json\n",
    "from requests_html import HTMLSession\n",
    "session = HTMLSession()\n",
    "from pandas import Series,DataFrame\n",
    "from io import BytesIO\n",
    "from time import sleep\n",
    "import sys"
   ]
  },
  {
   "cell_type": "code",
   "execution_count": 2,
   "id": "e196fdf1",
   "metadata": {},
   "outputs": [],
   "source": [
    "pd.set_option('display.max_columns', None)\n",
    "pd.set_option('display.expand_frame_repr', False)\n",
    "pd.set_option('max_colwidth', None)"
   ]
  },
  {
   "cell_type": "markdown",
   "id": "fcfbded5",
   "metadata": {},
   "source": [
    "## Ссылка на спецификации запросов Метрики\n",
    "\n",
    "https://yandex.ru/dev/metrika/doc/api2/logs/intro.html\n",
    "\n",
    "https://github.com/pavelmaksimov/tapi-yandex-metrika/blob/master/docs/logsapi.md"
   ]
  },
  {
   "cell_type": "code",
   "execution_count": 4,
   "id": "ad1a26ee",
   "metadata": {},
   "outputs": [],
   "source": [
    "# токен доступа к метрике\n",
    "ACCESS_TOKEN = \"!!!!YOUR_TOKEN!!!!\"\n",
    "\n",
    "# номер счетчика\n",
    "count_number = \"61617364\"\n",
    "\n",
    "client = YandexMetrikaLogsapi(\n",
    "    access_token=ACCESS_TOKEN,\n",
    "    default_url_params={'counterId': count_number})"
   ]
  },
  {
   "cell_type": "code",
   "execution_count": 5,
   "id": "9cbe2447",
   "metadata": {},
   "outputs": [],
   "source": [
    "# запишем в переменную требуемые параметры\n",
    "params = {\n",
    "    \"fields\": \"ym:s:date,ym:s:clientID\",\n",
    "    \"source\": \"visits\",\n",
    "    \"date1\": \"2022-12-01\",\n",
    "    \"date2\": \"2022-12-01\"\n",
    "}"
   ]
  },
  {
   "cell_type": "code",
   "execution_count": 6,
   "id": "adaf55af",
   "metadata": {
    "scrolled": false
   },
   "outputs": [
    {
     "name": "stdout",
     "output_type": "stream",
     "text": [
      "<TapiClient object\n",
      "{   'log_request_evaluation': {   'expected_size': 1485,\n",
      "                                  'log_request_sum_max_size': 10737418240,\n",
      "                                  'log_request_sum_size': 10737415270,\n",
      "                                  'max_possible_day_quantity': 7230582,\n",
      "                                  'possible': True}}>\n"
     ]
    }
   ],
   "source": [
    "# Check the possibility of creating a report. Via HTTP GET method.\n",
    "result = client.evaluate().get(params=params)\n",
    "print(result)"
   ]
  },
  {
   "cell_type": "code",
   "execution_count": 7,
   "id": "5a9fc59f",
   "metadata": {
    "scrolled": false
   },
   "outputs": [
    {
     "name": "stdout",
     "output_type": "stream",
     "text": [
      "<TapiClient object\n",
      "{   'log_request': {   'attribution': 'LASTSIGN',\n",
      "                       'counter_id': 61617364,\n",
      "                       'date1': '2022-12-01',\n",
      "                       'date2': '2022-12-01',\n",
      "                       'fields': ['ym:s:date', 'ym:s:clientID'],\n",
      "                       'request_id': 29897887,\n",
      "                       'size': 0,\n",
      "                       'source': 'visits',\n",
      "                       'status': 'created'}}>\n"
     ]
    }
   ],
   "source": [
    "# Order a report. Via HTTP POST method.\n",
    "result = client.create().post(params=params)\n",
    "request_id = result[\"log_request\"][\"request_id\"]\n",
    "print(result)"
   ]
  },
  {
   "cell_type": "code",
   "execution_count": 8,
   "id": "3c7190d8",
   "metadata": {
    "scrolled": true
   },
   "outputs": [
    {
     "name": "stdout",
     "output_type": "stream",
     "text": [
      "processed\n"
     ]
    }
   ],
   "source": [
    "# получение инфо о статусе отчета\n",
    "info = client.info(requestId=request_id).get()\n",
    "print(info[\"log_request\"][\"status\"])"
   ]
  },
  {
   "cell_type": "code",
   "execution_count": 9,
   "id": "10441892",
   "metadata": {},
   "outputs": [
    {
     "name": "stdout",
     "output_type": "stream",
     "text": [
      "Number of parts in the report [{'part_number': 0, 'size': 1647}]\n"
     ]
    }
   ],
   "source": [
    "# The report can be downloaded when it is generated on the server. Via HTTP GET method.\n",
    "if info[\"log_request\"][\"status\"] == \"processed\":\n",
    "    # The report can consist of several parts.\n",
    "    parts = info[\"log_request\"][\"parts\"]\n",
    "    print(\"Number of parts in the report\", parts)\n",
    "\n",
    "    # The partNumber parameter specifies the number of the part of the report that you want to download.\n",
    "    # Default partNumber=0\n",
    "    part = client.download(requestId=request_id, partNumber=0).get()\n",
    "    \n",
    "\n",
    "else:\n",
    "    print(\"Report not ready yet\")\n",
    "    \n",
    "    \n",
    "data = part.data    "
   ]
  },
  {
   "cell_type": "code",
   "execution_count": 11,
   "id": "35f2e7ba",
   "metadata": {},
   "outputs": [
    {
     "data": {
      "text/html": [
       "<div>\n",
       "<style scoped>\n",
       "    .dataframe tbody tr th:only-of-type {\n",
       "        vertical-align: middle;\n",
       "    }\n",
       "\n",
       "    .dataframe tbody tr th {\n",
       "        vertical-align: top;\n",
       "    }\n",
       "\n",
       "    .dataframe thead th {\n",
       "        text-align: right;\n",
       "    }\n",
       "</style>\n",
       "<table border=\"1\" class=\"dataframe\">\n",
       "  <thead>\n",
       "    <tr style=\"text-align: right;\">\n",
       "      <th></th>\n",
       "      <th>ym:s:date</th>\n",
       "      <th>ym:s:clientID</th>\n",
       "    </tr>\n",
       "  </thead>\n",
       "  <tbody>\n",
       "    <tr>\n",
       "      <th>0</th>\n",
       "      <td>2022-12-01</td>\n",
       "      <td>16698851111031800941</td>\n",
       "    </tr>\n",
       "    <tr>\n",
       "      <th>1</th>\n",
       "      <td>2022-12-01</td>\n",
       "      <td>1669828095499892789</td>\n",
       "    </tr>\n",
       "    <tr>\n",
       "      <th>2</th>\n",
       "      <td>2022-12-01</td>\n",
       "      <td>1669879821792962811</td>\n",
       "    </tr>\n",
       "    <tr>\n",
       "      <th>3</th>\n",
       "      <td>2022-12-01</td>\n",
       "      <td>1669895320347292667</td>\n",
       "    </tr>\n",
       "    <tr>\n",
       "      <th>4</th>\n",
       "      <td>2022-12-01</td>\n",
       "      <td>166988992130137974</td>\n",
       "    </tr>\n",
       "  </tbody>\n",
       "</table>\n",
       "</div>"
      ],
      "text/plain": [
       "    ym:s:date         ym:s:clientID\n",
       "0  2022-12-01  16698851111031800941\n",
       "1  2022-12-01   1669828095499892789\n",
       "2  2022-12-01   1669879821792962811\n",
       "3  2022-12-01   1669895320347292667\n",
       "4  2022-12-01    166988992130137974"
      ]
     },
     "execution_count": 11,
     "metadata": {},
     "output_type": "execute_result"
    }
   ],
   "source": [
    "# Преобразование ответа Метрики в датафрейм   ()      \n",
    "file = open(\"cashe.csv\", \"w\")   # сздаем и открываем новый файл\n",
    "file.write(data)            # записываем в него ответ API\n",
    "file.close()                    # закрываем файл\n",
    "df = pd.read_csv(\"cashe.csv\", header=0, sep='\\t', index_col=0, encoding='cp1251')     # записываем в датафрейм файл\n",
    "df = df.reset_index()\n",
    "df.head()"
   ]
  },
  {
   "cell_type": "code",
   "execution_count": 12,
   "id": "6fd1c6c1",
   "metadata": {},
   "outputs": [
    {
     "name": "stdout",
     "output_type": "stream",
     "text": [
      "Column names\n",
      "['ym:s:date', 'ym:s:clientID']\n"
     ]
    }
   ],
   "source": [
    "# OR Automatically download the report when it is prepared\n",
    "\n",
    "client = YandexMetrikaLogsapi(\n",
    "    access_token=ACCESS_TOKEN,\n",
    "    default_url_params={'counterId': count_number},\n",
    "    # Download the report when it will be created\n",
    "    wait_report=True\n",
    ")\n",
    "\n",
    "info = client.create().post(params=params)\n",
    "request_id = info[\"log_request\"][\"request_id\"]\n",
    "\n",
    "report = client.download(requestId=request_id).get()\n",
    "\n",
    "data = report.data\n",
    "\n",
    "\n",
    "print(\"Column names\")\n",
    "print(report.columns)\n"
   ]
  },
  {
   "cell_type": "code",
   "execution_count": 13,
   "id": "b8185cf3",
   "metadata": {
    "scrolled": true
   },
   "outputs": [
    {
     "data": {
      "text/html": [
       "<div>\n",
       "<style scoped>\n",
       "    .dataframe tbody tr th:only-of-type {\n",
       "        vertical-align: middle;\n",
       "    }\n",
       "\n",
       "    .dataframe tbody tr th {\n",
       "        vertical-align: top;\n",
       "    }\n",
       "\n",
       "    .dataframe thead th {\n",
       "        text-align: right;\n",
       "    }\n",
       "</style>\n",
       "<table border=\"1\" class=\"dataframe\">\n",
       "  <thead>\n",
       "    <tr style=\"text-align: right;\">\n",
       "      <th></th>\n",
       "      <th>ym:s:date</th>\n",
       "      <th>ym:s:clientID</th>\n",
       "    </tr>\n",
       "  </thead>\n",
       "  <tbody>\n",
       "    <tr>\n",
       "      <th>0</th>\n",
       "      <td>2022-12-01</td>\n",
       "      <td>16698851111031800941</td>\n",
       "    </tr>\n",
       "    <tr>\n",
       "      <th>1</th>\n",
       "      <td>2022-12-01</td>\n",
       "      <td>1669828095499892789</td>\n",
       "    </tr>\n",
       "    <tr>\n",
       "      <th>2</th>\n",
       "      <td>2022-12-01</td>\n",
       "      <td>1669879821792962811</td>\n",
       "    </tr>\n",
       "    <tr>\n",
       "      <th>3</th>\n",
       "      <td>2022-12-01</td>\n",
       "      <td>1669895320347292667</td>\n",
       "    </tr>\n",
       "    <tr>\n",
       "      <th>4</th>\n",
       "      <td>2022-12-01</td>\n",
       "      <td>166988992130137974</td>\n",
       "    </tr>\n",
       "  </tbody>\n",
       "</table>\n",
       "</div>"
      ],
      "text/plain": [
       "    ym:s:date         ym:s:clientID\n",
       "0  2022-12-01  16698851111031800941\n",
       "1  2022-12-01   1669828095499892789\n",
       "2  2022-12-01   1669879821792962811\n",
       "3  2022-12-01   1669895320347292667\n",
       "4  2022-12-01    166988992130137974"
      ]
     },
     "execution_count": 13,
     "metadata": {},
     "output_type": "execute_result"
    }
   ],
   "source": [
    "# Преобразование ответа Метрики в датафрейм   ()      \n",
    "file = open(\"cashe.csv\", \"w\")   # сздаем и открываем новый файл\n",
    "file.write(data)            # записываем в него ответ API\n",
    "file.close()                    # закрываем файл\n",
    "df = pd.read_csv(\"cashe.csv\", header=0, sep='\\t', index_col=0, encoding='cp1251')     # записываем в датафрейм файл\n",
    "df = df.reset_index()\n",
    "df.head()"
   ]
  },
  {
   "cell_type": "code",
   "execution_count": 14,
   "id": "7ce3df98",
   "metadata": {},
   "outputs": [
    {
     "name": "stdout",
     "output_type": "stream",
     "text": [
      "<TapiClient object\n",
      "{'requests': []}>\n",
      "Логов на сервере нет\n"
     ]
    }
   ],
   "source": [
    "# ВЫВОД ТЕКУЩИХ ЛОГОВ\n",
    "result = client.allinfo().get()\n",
    "print(result)\n",
    "\n",
    "# ЦИКЛ ОЧИСТКИ ТЕКУЩИХ ЗАПРОСОВ\n",
    "if len(result[\"requests\"]) != 0:\n",
    "    for i in range(0, len(result[\"requests\"])):  # для того количества логов, которые есть в метритке\n",
    "        req_id = result[\"requests\"][i][\"request_id\"]   # получим номер очередного запроса\n",
    "        res = client.clean(requestId=req_id).post()    # удалим этот запрос\n",
    "        print(res)# распечатаем результат\n",
    "else: print (\"Логов на сервере нет\")"
   ]
  },
  {
   "cell_type": "markdown",
   "id": "0a8f8cdc",
   "metadata": {},
   "source": [
    "### Check the possibility of creating a report. Via HTTP GET method.\n",
    "result = client.evaluate().get(params=params)\n",
    "print(result)\n",
    "\n",
    "\n",
    "### Order a report. Via HTTP POST method.\n",
    "result = client.create().post(params=params)\n",
    "request_id = result[\"log_request\"][\"request_id\"]\n",
    "print(result)\n",
    "\n",
    "\n",
    "### Cancel report creation. Via HTTP POST method.\n",
    "result = client.cancel(requestId=request_id).post()\n",
    "print(result)\n",
    "\n",
    "\n",
    "### Delete report. Via HTTP POST method.\n",
    "result = client.clean(requestId=request_id).post()\n",
    "print(result)\n",
    "\n",
    "\n",
    "### Get information about all reports stored on the server. Via HTTP GET method.\n",
    "result = client.allinfo().get()\n",
    "print(result)\n",
    "\n",
    "\n",
    "### Get information about a specific report. Via HTTP GET method.\n",
    "result = client.info(requestId=request_id).get()\n",
    "print(result)\n",
    "\n",
    "\n",
    "### Download the report. Via HTTP POST method.\n",
    "result = client.create().post(params=params)\n",
    "request_id = result[\"log_request\"][\"request_id\"]"
   ]
  },
  {
   "cell_type": "markdown",
   "id": "dfbf7b6f",
   "metadata": {},
   "source": [
    "## *Функция группировки данных по одному параметру (group_df)*"
   ]
  },
  {
   "cell_type": "code",
   "execution_count": null,
   "id": "53c457c4",
   "metadata": {},
   "outputs": [],
   "source": [
    "def group_df(df, column):\n",
    "    # сгруппируем количество показов, кликов, СТР и стоимости по устройствам\n",
    "    grouped_device = df.groupby(column).agg({'visits': ['sum'], 'bounceRate': ['mean'], \n",
    "                                             'pageDepth': ['mean'], 'avgVisitSec': ['mean'], 'Goals_total': ['sum']}).reset_index()\n",
    "    grouped_device.columns = [column, 'Визитов', '% откзов', 'Ср глубина просмотра', 'Ср сессия в сек', 'Достигнуто целей']\n",
    "    \n",
    "    grouped_device['Конверсия'] = (grouped_device['Достигнуто целей'] / grouped_device['Визитов']) * 100\n",
    "    for col in ('% откзов', 'Ср глубина просмотра', 'Ср сессия в сек', 'Конверсия'):\n",
    "        grouped_device[col] = round((grouped_device[col]), 2)\n",
    "    \n",
    "    return(grouped_device)"
   ]
  },
  {
   "cell_type": "markdown",
   "id": "b568febf",
   "metadata": {},
   "source": [
    "## *Функция группировки по двум пар-м (group_df_2_param)*"
   ]
  },
  {
   "cell_type": "code",
   "execution_count": null,
   "id": "c7bf5277",
   "metadata": {},
   "outputs": [],
   "source": [
    "def group_df_2_param(df, column1, column2):\n",
    "    # сгруппируем количество показов, кликов, СТР и стоимости по устройствам\n",
    "    grouped_device = df.groupby([column1, column2] ).agg({'visits': ['sum'], 'bounceRate': ['mean'], \n",
    "                                             'pageDepth': ['mean'], 'avgVisitSec': ['mean'], 'Goals_total': ['sum']}).reset_index()\n",
    "    grouped_device.columns = [column1, column2, 'Визитов', '% откзов', 'Ср глубина просмотра', 'Ср сессия в сек', 'Достигнуто целей']\n",
    "\n",
    "    grouped_device['Конверсия'] = (grouped_device['Достигнуто целей'] / grouped_device['Визитов']) * 100\n",
    "    for col in ('% откзов', 'Ср глубина просмотра', 'Ср сессия в сек', 'Конверсия'):\n",
    "        grouped_device[col] = round((grouped_device[col]), 2)\n",
    "        \n",
    "    return(grouped_device)"
   ]
  }
 ],
 "metadata": {
  "kernelspec": {
   "display_name": "Python 3 (ipykernel)",
   "language": "python",
   "name": "python3"
  },
  "language_info": {
   "codemirror_mode": {
    "name": "ipython",
    "version": 3
   },
   "file_extension": ".py",
   "mimetype": "text/x-python",
   "name": "python",
   "nbconvert_exporter": "python",
   "pygments_lexer": "ipython3",
   "version": "3.10.7"
  },
  "toc": {
   "base_numbering": 1,
   "nav_menu": {},
   "number_sections": true,
   "sideBar": true,
   "skip_h1_title": false,
   "title_cell": "Table of Contents",
   "title_sidebar": "Contents",
   "toc_cell": false,
   "toc_position": {
    "height": "calc(100% - 180px)",
    "left": "10px",
    "top": "150px",
    "width": "453px"
   },
   "toc_section_display": true,
   "toc_window_display": true
  },
  "varInspector": {
   "cols": {
    "lenName": 16,
    "lenType": 16,
    "lenVar": 40
   },
   "kernels_config": {
    "python": {
     "delete_cmd_postfix": "",
     "delete_cmd_prefix": "del ",
     "library": "var_list.py",
     "varRefreshCmd": "print(var_dic_list())"
    },
    "r": {
     "delete_cmd_postfix": ") ",
     "delete_cmd_prefix": "rm(",
     "library": "var_list.r",
     "varRefreshCmd": "cat(var_dic_list()) "
    }
   },
   "types_to_exclude": [
    "module",
    "function",
    "builtin_function_or_method",
    "instance",
    "_Feature"
   ],
   "window_display": false
  }
 },
 "nbformat": 4,
 "nbformat_minor": 5
}
