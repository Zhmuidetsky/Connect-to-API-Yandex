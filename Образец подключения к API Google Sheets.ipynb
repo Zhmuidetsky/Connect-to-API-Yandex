{
 "cells": [
  {
   "cell_type": "markdown",
   "id": "6fe73597",
   "metadata": {},
   "source": [
    "## Ссылки на статьи\n",
    "- https://habr.com/ru/post/483302/\n",
    "- https://habr.com/ru/post/305378/\n",
    "- http://datalytics.ru/all/rabotaem-s-api-google-drive-s-pomoschyu-python/\n",
    "- https://docs.gspread.org/en/latest/user-guide.html#opening-a-spreadsheet"
   ]
  },
  {
   "cell_type": "code",
   "execution_count": 1,
   "id": "d0369b0f",
   "metadata": {},
   "outputs": [],
   "source": [
    "# Подключаем библиотеки\n",
    "import httplib2 \n",
    "import apiclient.discovery\n",
    "from oauth2client.service_account import ServiceAccountCredentials\n",
    "\n",
    "from __future__ import print_function\n",
    "import google.auth\n",
    "from googleapiclient.discovery import build\n",
    "from googleapiclient.errors import HttpError\n",
    "\n",
    "from google.oauth2 import service_account\n",
    "from googleapiclient.http import MediaIoBaseDownload,MediaFileUpload\n",
    "import pprint\n",
    "import io\n",
    "\n",
    "pp = pprint.PrettyPrinter(indent=4)"
   ]
  },
  {
   "cell_type": "code",
   "execution_count": 2,
   "id": "a0be3b6f",
   "metadata": {},
   "outputs": [],
   "source": [
    "import pandas as pd"
   ]
  },
  {
   "cell_type": "code",
   "execution_count": 3,
   "id": "5550d9a2",
   "metadata": {},
   "outputs": [],
   "source": [
    "# библиотека работы с Гугл шитс\n",
    "# https://docs.gspread.org/en/latest/user-guide.html#opening-a-spreadsheet\n",
    "import gspread\n",
    "import gspread_dataframe as gd\n"
   ]
  },
  {
   "cell_type": "markdown",
   "id": "c9ebcb39",
   "metadata": {},
   "source": [
    "## файл с ключом доступа"
   ]
  },
  {
   "cell_type": "code",
   "execution_count": 4,
   "id": "5a5e43a5",
   "metadata": {},
   "outputs": [],
   "source": [
    "# Ссылка на файл с закрытым ключом\n",
    "CREDENTIALS_FILE = r'C:\\Users\\ezhmui04\\Documents\\Ключ доступа к GoogleCloud\\directdashboard-734cbb03b84d.json' \n",
    "# создание SCOPE только для драйва\n",
    "SCOPES_drive = ['https://www.googleapis.com/auth/drive']"
   ]
  },
  {
   "cell_type": "code",
   "execution_count": 5,
   "id": "5ae48bf6",
   "metadata": {},
   "outputs": [],
   "source": [
    "credentials_drive = service_account.Credentials.from_service_account_file(CREDENTIALS_FILE, scopes=SCOPES_drive)\n",
    "gc = gspread.service_account(CREDENTIALS_FILE)\n"
   ]
  },
  {
   "cell_type": "markdown",
   "id": "4fb8af39",
   "metadata": {},
   "source": [
    "## создание пустого файла"
   ]
  },
  {
   "cell_type": "code",
   "execution_count": 6,
   "id": "075e482c",
   "metadata": {},
   "outputs": [
    {
     "name": "stdout",
     "output_type": "stream",
     "text": [
      "https://docs.google.com/spreadsheets/d/1vC_HAzqBwV1DiVg24rseHj8TeTJF_YVeQO4BGTec27g\n"
     ]
    }
   ],
   "source": [
    "# Читаем ключи из файла\n",
    "credentials = ServiceAccountCredentials.from_json_keyfile_name(CREDENTIALS_FILE, ['https://www.googleapis.com/auth/spreadsheets', 'https://www.googleapis.com/auth/drive'])\n",
    "\n",
    "httpAuth = credentials.authorize(httplib2.Http()) # Авторизуемся в системе\n",
    "service = apiclient.discovery.build('sheets', 'v4', http = httpAuth) # Выбираем работу с таблицами и 4 версию API\n",
    "\n",
    "spreadsheet = service.spreadsheets().create(body = {\n",
    "    'properties': {'title': 'Первый тестовый документ', 'locale': 'ru_RU'},\n",
    "    'sheets': [{'properties': {'sheetType': 'GRID',\n",
    "                               'sheetId': 0,\n",
    "                               'title': 'Лист номер один',\n",
    "                               'gridProperties': {'rowCount': 100, 'columnCount': 15}}}]\n",
    "}).execute()\n",
    "spreadsheetId = spreadsheet['spreadsheetId'] # сохраняем идентификатор файла\n",
    "print('https://docs.google.com/spreadsheets/d/' + spreadsheetId)"
   ]
  },
  {
   "cell_type": "markdown",
   "id": "adaea6c7",
   "metadata": {},
   "source": [
    "## разрешение на редактирование файла"
   ]
  },
  {
   "cell_type": "code",
   "execution_count": 7,
   "id": "360079a7",
   "metadata": {},
   "outputs": [],
   "source": [
    "# выдача разрешения на редактирование файла \n",
    "driveService = apiclient.discovery.build('drive', 'v3', http = httpAuth) # Выбираем работу с Google Drive и 3 версию API\n",
    "access = driveService.permissions().create(\n",
    "    fileId = spreadsheetId,\n",
    "    body = {'type': 'user', 'role': 'reader', 'emailAddress': 'rostov78@mail.ru'},  # Открываем доступ на редактирование\n",
    "    fields = 'id'\n",
    ").execute()\n",
    "\n",
    "# role can be also 'writer'"
   ]
  },
  {
   "cell_type": "markdown",
   "id": "a475f9c6",
   "metadata": {},
   "source": [
    "## заполнение файла"
   ]
  },
  {
   "cell_type": "code",
   "execution_count": 8,
   "id": "2bfca26e",
   "metadata": {},
   "outputs": [],
   "source": [
    "results = service.spreadsheets().values().batchUpdate(spreadsheetId = spreadsheetId, body = {\n",
    "    \"valueInputOption\": \"USER_ENTERED\", # Данные воспринимаются, как вводимые пользователем (считается значение формул)\n",
    "    \"data\": [\n",
    "        {\"range\": \"Лист номер один!B2:D5\",\n",
    "         \"majorDimension\": \"ROWS\",     # Сначала заполнять строки, затем столбцы\n",
    "         \"values\": [\n",
    "                    [\"Ячейка B2\", \"Ячейка C2\", \"Ячейка D2\"], # Заполняем первую строку\n",
    "                    ['25', \"=6*6\", \"=sin(3,14/2)\"]  # Заполняем вторую строку\n",
    "                   ]}\n",
    "    ]\n",
    "}).execute()"
   ]
  },
  {
   "cell_type": "markdown",
   "id": "fd3a8996",
   "metadata": {},
   "source": [
    "## чтение данных из файла"
   ]
  },
  {
   "cell_type": "code",
   "execution_count": 9,
   "id": "f9609463",
   "metadata": {
    "scrolled": true
   },
   "outputs": [
    {
     "name": "stdout",
     "output_type": "stream",
     "text": [
      "[['', 'Ячейка B2', 'Ячейка C2', 'Ячейка D2'], ['', '25', '36', '0,9999996829']]\n"
     ]
    }
   ],
   "source": [
    "ranges = [\"Лист номер один!A2:F8\"] # \n",
    "          \n",
    "results = service.spreadsheets().values().batchGet(spreadsheetId = spreadsheetId, \n",
    "                                     ranges = ranges, \n",
    "                                     valueRenderOption = 'FORMATTED_VALUE',  \n",
    "                                     dateTimeRenderOption = 'FORMATTED_STRING').execute() \n",
    "sheet_values = results['valueRanges'][0]['values']\n",
    "print(sheet_values)"
   ]
  },
  {
   "cell_type": "markdown",
   "id": "106ebe06",
   "metadata": {},
   "source": [
    "## перемещение файла из корневой папки"
   ]
  },
  {
   "cell_type": "code",
   "execution_count": 11,
   "id": "658b8a4f",
   "metadata": {},
   "outputs": [],
   "source": [
    "driveService = apiclient.discovery.build('drive', 'v3', http = httpAuth) # Выбираем работу с Google Drive и 3 версию API\n"
   ]
  },
  {
   "cell_type": "code",
   "execution_count": 12,
   "id": "eb91bb6a",
   "metadata": {},
   "outputs": [
    {
     "name": "stdout",
     "output_type": "stream",
     "text": [
      "Folder ID: \"1E4NxuaGuvGkW05UUC1UdKNqFQIwI9iD_\".\n"
     ]
    }
   ],
   "source": [
    "# создание папки куда переместим файл\n",
    "file_metadata = {\n",
    "            'name': 'Direct_data',\n",
    "            'mimeType': 'application/vnd.google-apps.folder'\n",
    "        }\n",
    "\n",
    "# pylint: disable=maybe-no-member\n",
    "file = driveService.files().create(body=file_metadata, fields='id'\n",
    "                                      ).execute()\n",
    "print(F'Folder ID: \"{file.get(\"id\")}\".')\n",
    "\n",
    "folder = file.get(\"id\")"
   ]
  },
  {
   "cell_type": "code",
   "execution_count": 13,
   "id": "684b9f3f",
   "metadata": {},
   "outputs": [],
   "source": [
    "# выдача разрешения на редактирование папки (но я ее все равно не вижу) \n",
    "access = driveService.permissions().create(\n",
    "    fileId = folder,\n",
    "    body = {'type': 'user', 'role': 'reader', 'emailAddress': 'rostov78@mail.ru'},  # Открываем доступ на редактирование\n",
    "    fields = 'id'\n",
    ").execute()"
   ]
  },
  {
   "cell_type": "code",
   "execution_count": 14,
   "id": "36ddecaf",
   "metadata": {},
   "outputs": [],
   "source": [
    "# выбираем работу с драйовом\n",
    "service = build('drive', 'v3', credentials=credentials_drive)\n",
    "\n",
    "file = service.files().get(fileId=spreadsheetId, fields='parents').execute()\n",
    "previous_parents = \",\".join(file.get('parents'))\n",
    "# Move the file to the new folder\n",
    "file = service.files().update(fileId=spreadsheetId, addParents=folder, removeParents=previous_parents, fields='id, parents').execute()"
   ]
  },
  {
   "cell_type": "markdown",
   "id": "7f02e60f",
   "metadata": {},
   "source": [
    "## дополнительная библиотека работы с драйвом"
   ]
  },
  {
   "cell_type": "code",
   "execution_count": 15,
   "id": "97838718",
   "metadata": {},
   "outputs": [],
   "source": [
    "# библиотека работы с Гугл шитс\n",
    "#import gspread\n",
    "\n",
    "#gc = gspread.service_account(CREDENTIALS_FILE)\n",
    "\n",
    "# Open a spreadsheet by title\n",
    "#sh = gc.open(\"Iris Data\")\n",
    "\n",
    "# Get the first sheet\n",
    "#wk = sh.sheet1\n",
    "\n",
    "# Update a range of cells using the top left corner address\n",
    "#wk.update('A1', [['Species', 'Sepal length'], ['Iris setosa', 5.1]])\n",
    "\n",
    "# Format the header\n",
    "#wk.format('A1:B1', {'textFormat': {'bold': True}})\n",
    "\n",
    "# Open a sheet from a spreadsheet in one go\n",
    "#sht2 = gc.open_by_url('https://docs.google.com/spreadsheets/d/1KFywsz-4a5blbYpv9_mviMrPsYvvXSJh49rkx_Q0VHA/edit#gid=0')\n",
    "\n",
    "# очистка всего листа\n",
    "# Get the first sheet\n",
    "#wk = sht2.sheet1\n",
    "#wk.clear()\n",
    "\n",
    "# создание файла\n",
    "#sh = gc.create('A new spreadsheet')\n",
    "\n",
    "# изменение прав доступа к файлу\n",
    "#sh.share('rostov78@mail.ru', perm_type='user', role='reader')\n"
   ]
  },
  {
   "cell_type": "markdown",
   "id": "c3e3fc65",
   "metadata": {},
   "source": [
    "## создание тестовых датафреймов"
   ]
  },
  {
   "cell_type": "code",
   "execution_count": 16,
   "id": "fb4fb321",
   "metadata": {
    "scrolled": true
   },
   "outputs": [
    {
     "name": "stderr",
     "output_type": "stream",
     "text": [
      "C:\\Users\\ezhmui04\\PycharmProjects\\pythonProject\\venv\\lib\\site-packages\\pandas\\util\\__init__.py:16: FutureWarning: pandas.util.testing is deprecated. Use the functions in the public API at pandas.testing instead.\n",
      "  import pandas.util.testing\n"
     ]
    },
    {
     "data": {
      "text/html": [
       "<div>\n",
       "<style scoped>\n",
       "    .dataframe tbody tr th:only-of-type {\n",
       "        vertical-align: middle;\n",
       "    }\n",
       "\n",
       "    .dataframe tbody tr th {\n",
       "        vertical-align: top;\n",
       "    }\n",
       "\n",
       "    .dataframe thead th {\n",
       "        text-align: right;\n",
       "    }\n",
       "</style>\n",
       "<table border=\"1\" class=\"dataframe\">\n",
       "  <thead>\n",
       "    <tr style=\"text-align: right;\">\n",
       "      <th></th>\n",
       "      <th>A</th>\n",
       "      <th>B</th>\n",
       "      <th>C</th>\n",
       "      <th>D</th>\n",
       "    </tr>\n",
       "  </thead>\n",
       "  <tbody>\n",
       "    <tr>\n",
       "      <th>UFxCofXepO</th>\n",
       "      <td>-0.470408</td>\n",
       "      <td>0.430277</td>\n",
       "      <td>-0.043902</td>\n",
       "      <td>-0.408101</td>\n",
       "    </tr>\n",
       "    <tr>\n",
       "      <th>gFURJxB0fS</th>\n",
       "      <td>-1.076257</td>\n",
       "      <td>1.099781</td>\n",
       "      <td>0.920815</td>\n",
       "      <td>2.779751</td>\n",
       "    </tr>\n",
       "    <tr>\n",
       "      <th>nXSAI00yF8</th>\n",
       "      <td>-0.105437</td>\n",
       "      <td>1.296588</td>\n",
       "      <td>2.614192</td>\n",
       "      <td>-0.337523</td>\n",
       "    </tr>\n",
       "    <tr>\n",
       "      <th>GzuoE9DNOP</th>\n",
       "      <td>-0.809165</td>\n",
       "      <td>0.354133</td>\n",
       "      <td>1.053262</td>\n",
       "      <td>1.655058</td>\n",
       "    </tr>\n",
       "    <tr>\n",
       "      <th>O7JGQ1Xo4O</th>\n",
       "      <td>1.010462</td>\n",
       "      <td>-1.257395</td>\n",
       "      <td>-1.847029</td>\n",
       "      <td>0.778408</td>\n",
       "    </tr>\n",
       "  </tbody>\n",
       "</table>\n",
       "</div>"
      ],
      "text/plain": [
       "                   A         B         C         D\n",
       "UFxCofXepO -0.470408  0.430277 -0.043902 -0.408101\n",
       "gFURJxB0fS -1.076257  1.099781  0.920815  2.779751\n",
       "nXSAI00yF8 -0.105437  1.296588  2.614192 -0.337523\n",
       "GzuoE9DNOP -0.809165  0.354133  1.053262  1.655058\n",
       "O7JGQ1Xo4O  1.010462 -1.257395 -1.847029  0.778408"
      ]
     },
     "execution_count": 16,
     "metadata": {},
     "output_type": "execute_result"
    }
   ],
   "source": [
    "df = pd.util.testing.makeDataFrame()\n",
    "\n",
    "df.head()"
   ]
  },
  {
   "cell_type": "code",
   "execution_count": 17,
   "id": "7437a145",
   "metadata": {
    "scrolled": false
   },
   "outputs": [
    {
     "data": {
      "text/html": [
       "<div>\n",
       "<style scoped>\n",
       "    .dataframe tbody tr th:only-of-type {\n",
       "        vertical-align: middle;\n",
       "    }\n",
       "\n",
       "    .dataframe tbody tr th {\n",
       "        vertical-align: top;\n",
       "    }\n",
       "\n",
       "    .dataframe thead th {\n",
       "        text-align: right;\n",
       "    }\n",
       "</style>\n",
       "<table border=\"1\" class=\"dataframe\">\n",
       "  <thead>\n",
       "    <tr style=\"text-align: right;\">\n",
       "      <th></th>\n",
       "      <th>A</th>\n",
       "      <th>B</th>\n",
       "      <th>C</th>\n",
       "      <th>D</th>\n",
       "    </tr>\n",
       "  </thead>\n",
       "  <tbody>\n",
       "    <tr>\n",
       "      <th>smCwRl4tMK</th>\n",
       "      <td>-0.510449</td>\n",
       "      <td>-0.916556</td>\n",
       "      <td>-0.524588</td>\n",
       "      <td>-1.203840</td>\n",
       "    </tr>\n",
       "    <tr>\n",
       "      <th>5JWUyFQ8fl</th>\n",
       "      <td>2.357641</td>\n",
       "      <td>0.705645</td>\n",
       "      <td>0.424248</td>\n",
       "      <td>0.744603</td>\n",
       "    </tr>\n",
       "    <tr>\n",
       "      <th>AqR9XUk4fT</th>\n",
       "      <td>0.163010</td>\n",
       "      <td>1.511941</td>\n",
       "      <td>0.025359</td>\n",
       "      <td>0.623509</td>\n",
       "    </tr>\n",
       "    <tr>\n",
       "      <th>ICRW9EFX81</th>\n",
       "      <td>-0.281312</td>\n",
       "      <td>-0.309317</td>\n",
       "      <td>0.732052</td>\n",
       "      <td>-1.358567</td>\n",
       "    </tr>\n",
       "    <tr>\n",
       "      <th>aeerFZGrJE</th>\n",
       "      <td>2.085723</td>\n",
       "      <td>-0.321015</td>\n",
       "      <td>1.982856</td>\n",
       "      <td>0.646546</td>\n",
       "    </tr>\n",
       "  </tbody>\n",
       "</table>\n",
       "</div>"
      ],
      "text/plain": [
       "                   A         B         C         D\n",
       "smCwRl4tMK -0.510449 -0.916556 -0.524588 -1.203840\n",
       "5JWUyFQ8fl  2.357641  0.705645  0.424248  0.744603\n",
       "AqR9XUk4fT  0.163010  1.511941  0.025359  0.623509\n",
       "ICRW9EFX81 -0.281312 -0.309317  0.732052 -1.358567\n",
       "aeerFZGrJE  2.085723 -0.321015  1.982856  0.646546"
      ]
     },
     "execution_count": 17,
     "metadata": {},
     "output_type": "execute_result"
    }
   ],
   "source": [
    "df_2 = pd.util.testing.makeDataFrame()\n",
    "\n",
    "df_2.head()"
   ]
  },
  {
   "cell_type": "code",
   "execution_count": 18,
   "id": "2ef81148",
   "metadata": {},
   "outputs": [
    {
     "data": {
      "text/plain": [
       "{'spreadsheetId': '1KFywsz-4a5blbYpv9_mviMrPsYvvXSJh49rkx_Q0VHA',\n",
       " 'clearedRange': \"'Лист номер один'!A1:O100\"}"
      ]
     },
     "execution_count": 18,
     "metadata": {},
     "output_type": "execute_result"
    }
   ],
   "source": [
    "#Open a sheet from a spreadsheet in one go\n",
    "sht2 = gc.open_by_url('https://docs.google.com/spreadsheets/d/1KFywsz-4a5blbYpv9_mviMrPsYvvXSJh49rkx_Q0VHA/edit#gid=0')\n",
    "\n",
    "# очистка всего листа\n",
    "# Get the first sheet\n",
    "wk = sht2.sheet1\n",
    "wk.clear()"
   ]
  },
  {
   "cell_type": "code",
   "execution_count": 19,
   "id": "331f5044",
   "metadata": {},
   "outputs": [
    {
     "data": {
      "text/plain": [
       "{'spreadsheetId': '1KFywsz-4a5blbYpv9_mviMrPsYvvXSJh49rkx_Q0VHA',\n",
       " 'updatedRange': \"'Лист номер один'!A1:D31\",\n",
       " 'updatedRows': 31,\n",
       " 'updatedColumns': 4,\n",
       " 'updatedCells': 124}"
      ]
     },
     "execution_count": 19,
     "metadata": {},
     "output_type": "execute_result"
    }
   ],
   "source": [
    "# запись в файл датафрейма целиком\n",
    "wk.update([df.columns.values.tolist()] + df.values.tolist())\n"
   ]
  },
  {
   "cell_type": "code",
   "execution_count": 20,
   "id": "4a5f6419",
   "metadata": {},
   "outputs": [
    {
     "data": {
      "text/plain": [
       "{'spreadsheetId': '1KFywsz-4a5blbYpv9_mviMrPsYvvXSJh49rkx_Q0VHA',\n",
       " 'tableRange': \"'Лист номер один'!A1:D31\",\n",
       " 'updates': {'spreadsheetId': '1KFywsz-4a5blbYpv9_mviMrPsYvvXSJh49rkx_Q0VHA',\n",
       "  'updatedRange': \"'Лист номер один'!A32:D61\",\n",
       "  'updatedRows': 30,\n",
       "  'updatedColumns': 4,\n",
       "  'updatedCells': 120}}"
      ]
     },
     "execution_count": 20,
     "metadata": {},
     "output_type": "execute_result"
    }
   ],
   "source": [
    "# добавление в файл нового датафрейма\n",
    "gsc = gspread.authorize(credentials)\n",
    "sheet = sht2\n",
    "params = {'valueInputOption': 'USER_ENTERED'}\n",
    "body = {'values': df_2.values.tolist()}\n",
    "sheet.values_append(f'wkA2:D2', params, body)"
   ]
  },
  {
   "cell_type": "code",
   "execution_count": null,
   "id": "4576c2bb",
   "metadata": {},
   "outputs": [],
   "source": []
  }
 ],
 "metadata": {
  "kernelspec": {
   "display_name": "Python 3 (ipykernel)",
   "language": "python",
   "name": "python3"
  },
  "language_info": {
   "codemirror_mode": {
    "name": "ipython",
    "version": 3
   },
   "file_extension": ".py",
   "mimetype": "text/x-python",
   "name": "python",
   "nbconvert_exporter": "python",
   "pygments_lexer": "ipython3",
   "version": "3.10.7"
  },
  "toc": {
   "base_numbering": 1,
   "nav_menu": {},
   "number_sections": true,
   "sideBar": true,
   "skip_h1_title": false,
   "title_cell": "Table of Contents",
   "title_sidebar": "Contents",
   "toc_cell": false,
   "toc_position": {},
   "toc_section_display": true,
   "toc_window_display": false
  },
  "varInspector": {
   "cols": {
    "lenName": 16,
    "lenType": 16,
    "lenVar": 40
   },
   "kernels_config": {
    "python": {
     "delete_cmd_postfix": "",
     "delete_cmd_prefix": "del ",
     "library": "var_list.py",
     "varRefreshCmd": "print(var_dic_list())"
    },
    "r": {
     "delete_cmd_postfix": ") ",
     "delete_cmd_prefix": "rm(",
     "library": "var_list.r",
     "varRefreshCmd": "cat(var_dic_list()) "
    }
   },
   "types_to_exclude": [
    "module",
    "function",
    "builtin_function_or_method",
    "instance",
    "_Feature"
   ],
   "window_display": false
  }
 },
 "nbformat": 4,
 "nbformat_minor": 5
}
