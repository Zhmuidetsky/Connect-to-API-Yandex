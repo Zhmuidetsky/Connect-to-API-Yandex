{
 "cells": [
  {
   "cell_type": "markdown",
   "id": "a6ad8ffc",
   "metadata": {},
   "source": [
    "# **Образец получения статистики**"
   ]
  },
  {
   "cell_type": "code",
   "execution_count": 1,
   "id": "5d833ff8",
   "metadata": {},
   "outputs": [],
   "source": [
    "# перед началом работы импортируем библиотеки, которые могут понадобиться в работе над проектом\n",
    "\n",
    "import pandas as pd\n",
    "import math\n",
    "import numpy as np\n",
    "from matplotlib import pyplot as plt\n",
    "from scipy import stats as st\n",
    "import seaborn as sns\n",
    "import scipy.stats as stats\n",
    "import plotly.express as px\n",
    "import plotly.graph_objs as go\n",
    "from plotly.subplots import make_subplots\n",
    "import requests \n",
    "from urllib.parse import urlencode \n",
    "import re\n",
    "from calendar import day_name\n",
    "\n",
    "%matplotlib inline\n",
    "# импорт библиотеки подключения к яндекс-метрике\n",
    "from tapi_yandex_metrika import YandexMetrikaStats\n",
    "from pandas.io.json import json_normalize\n",
    "import json\n",
    "from requests_html import HTMLSession\n",
    "session = HTMLSession()\n",
    "from pandas import Series,DataFrame\n",
    "from io import BytesIO\n",
    "from time import sleep\n",
    "import sys"
   ]
  },
  {
   "cell_type": "code",
   "execution_count": 2,
   "id": "e196fdf1",
   "metadata": {},
   "outputs": [],
   "source": [
    "pd.set_option('display.max_columns', None)\n",
    "pd.set_option('display.expand_frame_repr', False)\n",
    "pd.set_option('max_colwidth', None)"
   ]
  },
  {
   "cell_type": "code",
   "execution_count": 5,
   "id": "54410a19",
   "metadata": {},
   "outputs": [],
   "source": [
    "# Метод для корректной обработки строк в кодировке UTF-8 как в Python 3, так и в Python 2\n",
    "if sys.version_info < (3,):\n",
    "    def u(x):\n",
    "        try:\n",
    "            return x.encode(\"utf8\")\n",
    "        except UnicodeDecodeError:\n",
    "            return x\n",
    "else:\n",
    "    def u(x):\n",
    "        if type(x) == type(b''):\n",
    "            return x.decode('utf8')\n",
    "        else:\n",
    "            return x"
   ]
  },
  {
   "cell_type": "markdown",
   "id": "fcfbded5",
   "metadata": {},
   "source": [
    "## Ссылка на спецификации запросов директа\n",
    "\n",
    "https://yandex.ru/dev/direct/doc/reports/spec.html\n",
    "\n",
    "https://yandex.ru/dev/direct/doc/reports/fields-list.html"
   ]
  },
  {
   "cell_type": "code",
   "execution_count": 6,
   "id": "ad1a26ee",
   "metadata": {},
   "outputs": [],
   "source": [
    "# токен доступа к директу\n",
    "ACCESS_TOKEN = \"!!!!YOUR_TOKEN!!!!!\"\n"
   ]
  },
  {
   "cell_type": "code",
   "execution_count": 20,
   "id": "e604c2d1",
   "metadata": {
    "scrolled": true
   },
   "outputs": [],
   "source": [
    "# --- Входные данные ---\n",
    "# Адрес сервиса Reports для отправки JSON-запросов (регистрозависимый)\n",
    "ReportsURL = 'https://api.direct.yandex.com/json/v5/reports'\n",
    "\n",
    "#адрес сервиса ОТЧЕТОВ ПЕСОЧНИЦА\n",
    "ReportsURL_SANDBOX = 'https://api-sandbox.direct.yandex.com/json/v5/reports'\n",
    "\n",
    "# OAuth-токен пользователя, от имени которого будут выполняться запросы\n",
    "token = ACCESS_TOKEN\n",
    "\n",
    "# Логин клиента рекламного агентства\n",
    "# Обязательный параметр, если запросы выполняются от имени рекламного агентства\n",
    "#clientLogin = 'ЛОГИН_КЛИЕНТА'\n",
    "\n",
    "#какие столбцы подгрузить\n",
    "stolbec = [\"Date\", \"CampaignName\", \"AdGroupName\",  \"LocationOfPresenceName\", \"AdNetworkType\", \"Device\",\n",
    "           \"Impressions\", \"Clicks\", \"Cost\",  \"Bounces\", \"AvgPageviews\", \"Conversions\"]\n",
    "\n",
    "#ID цели\n",
    "#goalID = ['43693399'] # если целей несколько то ['123','324']\n",
    "\n",
    "#даты отчета\n",
    "StartDate = \"2022-01-01\"\n",
    "FinishDate = \"2022-01-02\"\n",
    "\n",
    "# --- Подготовка запроса ---\n",
    "# Создание HTTP-заголовков запроса\n",
    "headers = {\n",
    "           # OAuth-токен. Использование слова Bearer обязательно\n",
    "           \"Authorization\": \"Bearer \" + token,\n",
    "           # Логин клиента рекламного агентства\n",
    "          # \"Client-Login\": clientLogin,\n",
    "           # Язык ответных сообщений\n",
    "           \"Accept-Language\": \"ru\",\n",
    "           # Режим формирования отчета\n",
    "           \"processingMode\": \"auto\",\n",
    "           # Формат денежных значений в отчете, если не сделать, то расходы будут в миллионах\n",
    "            \"returnMoneyInMicros\": \"false\",\n",
    "           # Не выводить в отчете строку с названием отчета и диапазоном дат\n",
    "           # \"skipReportHeader\": \"true\",\n",
    "           # Не выводить в отчете строку с названиями полей\n",
    "           # \"skipColumnHeader\": \"true\",\n",
    "           # Не выводить в отчете строку с количеством строк статистики\n",
    "            \"skipReportSummary\": \"true\"\n",
    "           }\n",
    "\n",
    "# Создание тела запроса\n",
    "body = {\n",
    "    \"params\": {\n",
    "        # критерии выбора, тут могут быть фильтры, логические операторы, \n",
    "        \"SelectionCriteria\": {\n",
    "            \"DateFrom\": StartDate,\n",
    "            \"DateTo\": FinishDate\n",
    "                             },\n",
    "        # цель, если требуется\n",
    "        #\"Goals\": goalID, \n",
    "        \n",
    "        \"FieldNames\": stolbec,\n",
    "        \"ReportName\": u(\"Отчет 99\"),\n",
    "        \"ReportType\": \"CUSTOM_REPORT\",   # тип отчета\n",
    "        \"DateRangeType\": \"CUSTOM_DATE\",\n",
    "        \"Format\": \"TSV\",  # обязательно\n",
    "        \"IncludeVAT\": \"YES\",\n",
    "        \"IncludeDiscount\": \"NO\"\n",
    "              }\n",
    "       }\n",
    "\n",
    "# Кодирование тела запроса в JSON\n",
    "body = json.dumps(body, indent=4)\n"
   ]
  },
  {
   "cell_type": "markdown",
   "id": "d613755c",
   "metadata": {},
   "source": [
    "## Функция запроса к директу (req_to_direct)"
   ]
  },
  {
   "cell_type": "code",
   "execution_count": 17,
   "id": "13ba2e33",
   "metadata": {},
   "outputs": [],
   "source": [
    "def req_to_direct(URL, body, headers):   \n",
    "    # --- Запуск цикла для выполнения запросов ---\n",
    "    # Если получен HTTP-код 200, то выводится содержание отчета\n",
    "    # Если получен HTTP-код 201 или 202, выполняются повторные запросы\n",
    "    while True:\n",
    "        try:\n",
    "            req = requests.post(URL, body, headers=headers)\n",
    "            req.encoding = 'utf-8'  # Принудительная обработка ответа в кодировке UTF-8\n",
    "            if req.status_code == 400:\n",
    "                print(\"Параметры запроса указаны неверно или достигнут лимит отчетов в очереди\")\n",
    "                print(\"RequestId: {}\".format(req.headers.get(\"RequestId\", False)))\n",
    "                print(\"JSON-код запроса: {}\".format(u(body)))\n",
    "                print(\"JSON-код ответа сервера: \\n{}\".format(u(req.json())))\n",
    "                break\n",
    "            elif req.status_code == 200:\n",
    "                print(\"Отчет создан успешно\")\n",
    "                format(u(req.text))\n",
    "                return(req.text)\n",
    "                # return(req.content) если вдруг хотим в байтах выгрузить и преобразовывать\n",
    "                break\n",
    "            elif req.status_code == 201:\n",
    "                print(\"Отчет успешно поставлен в очередь в режиме офлайн\")\n",
    "                retryIn = int(req.headers.get(\"retryIn\", 60))\n",
    "                print(\"Повторная отправка запроса через {} секунд\".format(retryIn))\n",
    "                print(\"RequestId: {}\".format(req.headers.get(\"RequestId\", False)))\n",
    "                sleep(retryIn)\n",
    "            elif req.status_code == 202:\n",
    "                print(\"Отчет формируется в режиме офлайн\")\n",
    "                retryIn = int(req.headers.get(\"retryIn\", 60))\n",
    "                print(\"Повторная отправка запроса через {} секунд\".format(retryIn))\n",
    "                print(\"RequestId:  {}\".format(req.headers.get(\"RequestId\", False)))\n",
    "                sleep(retryIn)\n",
    "            elif req.status_code == 500:\n",
    "                print(\"При формировании отчета произошла ошибка. Пожалуйста, попробуйте повторить запрос позднее\")\n",
    "                print(\"RequestId: {}\".format(req.headers.get(\"RequestId\", False)))\n",
    "                print(\"JSON-код ответа сервера: \\n{}\".format(u(req.json())))\n",
    "                break\n",
    "            elif req.status_code == 502:\n",
    "                print(\"Время формирования отчета превысило серверное ограничение.\")\n",
    "                print(\"Пожалуйста, попробуйте изменить параметры запроса - уменьшить период и количество запрашиваемых данных.\")\n",
    "                print(\"JSON-код запроса: {}\".format(body))\n",
    "                print(\"RequestId: {}\".format(req.headers.get(\"RequestId\", False)))\n",
    "                print(\"JSON-код ответа сервера: \\n{}\".format(u(req.json())))\n",
    "                break\n",
    "            else:\n",
    "                print(\"Произошла непредвиденная ошибка\")\n",
    "                print(\"RequestId:  {}\".format(req.headers.get(\"RequestId\", False)))\n",
    "                print(\"JSON-код запроса: {}\".format(body))\n",
    "                print(\"JSON-код ответа сервера: \\n{}\".format(u(req.json())))\n",
    "                break\n",
    "\n",
    "        # Обработка ошибки, если не удалось соединиться с сервером API Директа\n",
    "        except ConnectionError:\n",
    "            # В данном случае мы рекомендуем повторить запрос позднее\n",
    "            print(\"Произошла ошибка соединения с сервером API\")\n",
    "            # Принудительный выход из цикла\n",
    "            break\n",
    "\n",
    "        # Если возникла какая-либо другая ошибка\n",
    "        except:\n",
    "            # В данном случае мы рекомендуем проанализировать действия приложения\n",
    "            print(\"Произошла непредвиденная ошибка\")\n",
    "            # Принудительный выход из цикла\n",
    "            break"
   ]
  },
  {
   "cell_type": "code",
   "execution_count": 21,
   "id": "88a0c681",
   "metadata": {},
   "outputs": [
    {
     "name": "stdout",
     "output_type": "stream",
     "text": [
      "Отчет создан успешно\n"
     ]
    },
    {
     "data": {
      "text/html": [
       "<div>\n",
       "<style scoped>\n",
       "    .dataframe tbody tr th:only-of-type {\n",
       "        vertical-align: middle;\n",
       "    }\n",
       "\n",
       "    .dataframe tbody tr th {\n",
       "        vertical-align: top;\n",
       "    }\n",
       "\n",
       "    .dataframe thead th {\n",
       "        text-align: right;\n",
       "    }\n",
       "</style>\n",
       "<table border=\"1\" class=\"dataframe\">\n",
       "  <thead>\n",
       "    <tr style=\"text-align: right;\">\n",
       "      <th></th>\n",
       "      <th>Date</th>\n",
       "      <th>CampaignName</th>\n",
       "      <th>AdGroupName</th>\n",
       "      <th>LocationOfPresenceName</th>\n",
       "      <th>AdNetworkType</th>\n",
       "      <th>Device</th>\n",
       "      <th>Impressions</th>\n",
       "      <th>Clicks</th>\n",
       "      <th>Cost</th>\n",
       "      <th>Bounces</th>\n",
       "      <th>AvgPageviews</th>\n",
       "      <th>Conversions</th>\n",
       "    </tr>\n",
       "  </thead>\n",
       "  <tbody>\n",
       "    <tr>\n",
       "      <th>0</th>\n",
       "      <td>2022-01-01</td>\n",
       "      <td>Test API Sandbox campaign 1</td>\n",
       "      <td>Группа №4442697</td>\n",
       "      <td>Москва и область</td>\n",
       "      <td>AD_NETWORK</td>\n",
       "      <td>DESKTOP</td>\n",
       "      <td>2103</td>\n",
       "      <td>207</td>\n",
       "      <td>158.10</td>\n",
       "      <td>0</td>\n",
       "      <td>3.05</td>\n",
       "      <td>--</td>\n",
       "    </tr>\n",
       "    <tr>\n",
       "      <th>1</th>\n",
       "      <td>2022-01-01</td>\n",
       "      <td>Test API Sandbox campaign 1</td>\n",
       "      <td>Группа №4442697</td>\n",
       "      <td>Москва и область</td>\n",
       "      <td>AD_NETWORK</td>\n",
       "      <td>MOBILE</td>\n",
       "      <td>734</td>\n",
       "      <td>11</td>\n",
       "      <td>5.25</td>\n",
       "      <td>0</td>\n",
       "      <td>2.75</td>\n",
       "      <td>--</td>\n",
       "    </tr>\n",
       "    <tr>\n",
       "      <th>2</th>\n",
       "      <td>2022-01-01</td>\n",
       "      <td>Test API Sandbox campaign 1</td>\n",
       "      <td>Группа №4442697</td>\n",
       "      <td>Москва и область</td>\n",
       "      <td>AD_NETWORK</td>\n",
       "      <td>TABLET</td>\n",
       "      <td>306</td>\n",
       "      <td>54</td>\n",
       "      <td>21.60</td>\n",
       "      <td>0</td>\n",
       "      <td>3.02</td>\n",
       "      <td>--</td>\n",
       "    </tr>\n",
       "    <tr>\n",
       "      <th>3</th>\n",
       "      <td>2022-01-01</td>\n",
       "      <td>Test API Sandbox campaign 1</td>\n",
       "      <td>Группа №4442697</td>\n",
       "      <td>Москва и область</td>\n",
       "      <td>SEARCH</td>\n",
       "      <td>DESKTOP</td>\n",
       "      <td>3950</td>\n",
       "      <td>364</td>\n",
       "      <td>312.75</td>\n",
       "      <td>0</td>\n",
       "      <td>2.89</td>\n",
       "      <td>--</td>\n",
       "    </tr>\n",
       "    <tr>\n",
       "      <th>4</th>\n",
       "      <td>2022-01-01</td>\n",
       "      <td>Test API Sandbox campaign 1</td>\n",
       "      <td>Группа №4442697</td>\n",
       "      <td>Москва и область</td>\n",
       "      <td>SEARCH</td>\n",
       "      <td>MOBILE</td>\n",
       "      <td>4242</td>\n",
       "      <td>362</td>\n",
       "      <td>243.60</td>\n",
       "      <td>0</td>\n",
       "      <td>2.33</td>\n",
       "      <td>--</td>\n",
       "    </tr>\n",
       "  </tbody>\n",
       "</table>\n",
       "</div>"
      ],
      "text/plain": [
       "         Date                 CampaignName      AdGroupName LocationOfPresenceName AdNetworkType   Device  Impressions  Clicks    Cost  Bounces  AvgPageviews Conversions\n",
       "0  2022-01-01  Test API Sandbox campaign 1  Группа №4442697       Москва и область    AD_NETWORK  DESKTOP         2103     207  158.10        0          3.05          --\n",
       "1  2022-01-01  Test API Sandbox campaign 1  Группа №4442697       Москва и область    AD_NETWORK   MOBILE          734      11    5.25        0          2.75          --\n",
       "2  2022-01-01  Test API Sandbox campaign 1  Группа №4442697       Москва и область    AD_NETWORK   TABLET          306      54   21.60        0          3.02          --\n",
       "3  2022-01-01  Test API Sandbox campaign 1  Группа №4442697       Москва и область        SEARCH  DESKTOP         3950     364  312.75        0          2.89          --\n",
       "4  2022-01-01  Test API Sandbox campaign 1  Группа №4442697       Москва и область        SEARCH   MOBILE         4242     362  243.60        0          2.33          --"
      ]
     },
     "execution_count": 21,
     "metadata": {},
     "output_type": "execute_result"
    }
   ],
   "source": [
    "result = req_to_direct(ReportsURL_SANDBOX, body, headers)\n",
    "\n",
    "# Преобразование ответа в датафрейм   ()      \n",
    "file = open(\"cashe.csv\", \"w\")   # сздаем и открываем новый файл\n",
    "file.write(result)            # записываем в него ответ API\n",
    "file.close()                    # закрываем файл\n",
    "df = pd.read_csv(\"cashe.csv\", header=1, sep='\\t', index_col=0, encoding='cp1251')     # записываем в датафрейм файл\n",
    "df = df.reset_index()\n",
    "df.head()"
   ]
  },
  {
   "cell_type": "code",
   "execution_count": 50,
   "id": "4f9d871a",
   "metadata": {
    "scrolled": true
   },
   "outputs": [
    {
     "name": "stdout",
     "output_type": "stream",
     "text": [
      "Отчет создан успешно\n"
     ]
    },
    {
     "ename": "AttributeError",
     "evalue": "'str' object has no attribute 'content'",
     "output_type": "error",
     "traceback": [
      "\u001b[1;31m---------------------------------------------------------------------------\u001b[0m",
      "\u001b[1;31mAttributeError\u001b[0m                            Traceback (most recent call last)",
      "Cell \u001b[1;32mIn [50], line 4\u001b[0m\n\u001b[0;32m      2\u001b[0m result \u001b[38;5;241m=\u001b[39m req_to_direct(ReportsURL_SANDBOX, body, headers)\n\u001b[0;32m      3\u001b[0m \u001b[38;5;66;03m# записываем его в байтах\u001b[39;00m\n\u001b[1;32m----> 4\u001b[0m file_from_bytes \u001b[38;5;241m=\u001b[39m BytesIO(\u001b[43mresult\u001b[49m\u001b[38;5;241;43m.\u001b[39;49m\u001b[43mcontent\u001b[49m)\n\u001b[0;32m      5\u001b[0m \u001b[38;5;66;03m# преобразуем в датафрейм\u001b[39;00m\n\u001b[0;32m      6\u001b[0m df \u001b[38;5;241m=\u001b[39m pd\u001b[38;5;241m.\u001b[39mread_csv(file_from_bytes, sep\u001b[38;5;241m=\u001b[39m\u001b[38;5;124m'\u001b[39m\u001b[38;5;130;01m\\t\u001b[39;00m\u001b[38;5;124m'\u001b[39m, header\u001b[38;5;241m=\u001b[39m\u001b[38;5;241m1\u001b[39m)\n",
      "\u001b[1;31mAttributeError\u001b[0m: 'str' object has no attribute 'content'"
     ]
    }
   ],
   "source": [
    "# ВАРИАНТ ДЛЯ ВЫГРУЗКИ В БАЙТАХ, НЕОБХОДИМО МЕНЯТЬ СКРИПТ И ВОЗВРАТ ФУНКЦИИ\n",
    "# присваеваем результат в переменную\n",
    "#result = req_to_direct(ReportsURL_SANDBOX, body, headers)\n",
    "# записываем его в байтах\n",
    "#file_from_bytes = BytesIO(result.content)\n",
    "# преобразуем в датафрейм\n",
    "#df = pd.read_csv(file_from_bytes, sep='\\t', header=1)\n",
    "# корректируем значение столбца стоимости при необходимости\n",
    "# df['Cost'] = df['Cost'] / 1000000 \n",
    "#df.head()"
   ]
  },
  {
   "cell_type": "code",
   "execution_count": null,
   "id": "cda89122",
   "metadata": {},
   "outputs": [],
   "source": []
  },
  {
   "cell_type": "markdown",
   "id": "dfbf7b6f",
   "metadata": {},
   "source": [
    "## *Функция группировки данных по одному параметру (group_df)*"
   ]
  },
  {
   "cell_type": "code",
   "execution_count": null,
   "id": "53c457c4",
   "metadata": {},
   "outputs": [],
   "source": [
    "def group_df(df, column):\n",
    "    # сгруппируем количество показов, кликов, СТР и стоимости по устройствам\n",
    "    grouped_device = df.groupby(column).agg({'visits': ['sum'], 'bounceRate': ['mean'], \n",
    "                                             'pageDepth': ['mean'], 'avgVisitSec': ['mean'], 'Goals_total': ['sum']}).reset_index()\n",
    "    grouped_device.columns = [column, 'Визитов', '% откзов', 'Ср глубина просмотра', 'Ср сессия в сек', 'Достигнуто целей']\n",
    "    \n",
    "    grouped_device['Конверсия'] = (grouped_device['Достигнуто целей'] / grouped_device['Визитов']) * 100\n",
    "    for col in ('% откзов', 'Ср глубина просмотра', 'Ср сессия в сек', 'Конверсия'):\n",
    "        grouped_device[col] = round((grouped_device[col]), 2)\n",
    "    \n",
    "    return(grouped_device)"
   ]
  },
  {
   "cell_type": "markdown",
   "id": "b568febf",
   "metadata": {},
   "source": [
    "## *Функция группировки по двум пар-м (group_df_2_param)*"
   ]
  },
  {
   "cell_type": "code",
   "execution_count": null,
   "id": "c7bf5277",
   "metadata": {},
   "outputs": [],
   "source": [
    "def group_df_2_param(df, column1, column2):\n",
    "    # сгруппируем количество показов, кликов, СТР и стоимости по устройствам\n",
    "    grouped_device = df.groupby([column1, column2] ).agg({'visits': ['sum'], 'bounceRate': ['mean'], \n",
    "                                             'pageDepth': ['mean'], 'avgVisitSec': ['mean'], 'Goals_total': ['sum']}).reset_index()\n",
    "    grouped_device.columns = [column1, column2, 'Визитов', '% откзов', 'Ср глубина просмотра', 'Ср сессия в сек', 'Достигнуто целей']\n",
    "\n",
    "    grouped_device['Конверсия'] = (grouped_device['Достигнуто целей'] / grouped_device['Визитов']) * 100\n",
    "    for col in ('% откзов', 'Ср глубина просмотра', 'Ср сессия в сек', 'Конверсия'):\n",
    "        grouped_device[col] = round((grouped_device[col]), 2)\n",
    "        \n",
    "    return(grouped_device)"
   ]
  }
 ],
 "metadata": {
  "kernelspec": {
   "display_name": "Python 3 (ipykernel)",
   "language": "python",
   "name": "python3"
  },
  "language_info": {
   "codemirror_mode": {
    "name": "ipython",
    "version": 3
   },
   "file_extension": ".py",
   "mimetype": "text/x-python",
   "name": "python",
   "nbconvert_exporter": "python",
   "pygments_lexer": "ipython3",
   "version": "3.10.7"
  },
  "toc": {
   "base_numbering": 1,
   "nav_menu": {},
   "number_sections": true,
   "sideBar": true,
   "skip_h1_title": false,
   "title_cell": "Table of Contents",
   "title_sidebar": "Contents",
   "toc_cell": false,
   "toc_position": {
    "height": "calc(100% - 180px)",
    "left": "10px",
    "top": "150px",
    "width": "565px"
   },
   "toc_section_display": true,
   "toc_window_display": true
  },
  "varInspector": {
   "cols": {
    "lenName": 16,
    "lenType": 16,
    "lenVar": 40
   },
   "kernels_config": {
    "python": {
     "delete_cmd_postfix": "",
     "delete_cmd_prefix": "del ",
     "library": "var_list.py",
     "varRefreshCmd": "print(var_dic_list())"
    },
    "r": {
     "delete_cmd_postfix": ") ",
     "delete_cmd_prefix": "rm(",
     "library": "var_list.r",
     "varRefreshCmd": "cat(var_dic_list()) "
    }
   },
   "types_to_exclude": [
    "module",
    "function",
    "builtin_function_or_method",
    "instance",
    "_Feature"
   ],
   "window_display": false
  }
 },
 "nbformat": 4,
 "nbformat_minor": 5
}
